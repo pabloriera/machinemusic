{
 "cells": [
  {
   "cell_type": "code",
   "execution_count": 1,
   "metadata": {
    "collapsed": true
   },
   "outputs": [],
   "source": [
    "from IPython.display import display, HTML, Javascript"
   ]
  },
  {
   "cell_type": "code",
   "execution_count": 2,
   "metadata": {
    "collapsed": false
   },
   "outputs": [
    {
     "data": {
      "text/html": [
       "\n",
       "<script type=\"text/javascript\" src=\"pv/assets/js/cbuffer.js\"></script>\n",
       "<script type=\"text/javascript\" src=\"pv/assets/js/dsp.js\"></script>\n",
       "<script type=\"text/javascript\" src=\"pv/PV_fast_5.js\"></script>\n",
       "<script type=\"text/javascript\" src=\"pv/buffered-pv.js\"></script>\n",
       "<script type=\"text/javascript\" src=\"pv/waa-player/player.js\"></script>\n",
       "<script type=\"text/javascript\" src=\"pv/waa-player/ui.js\"></script>\n",
       "<script type=\"text/javascript\" src=\"pv/assets/js/drag-and-drop.js\"></script>\n",
       "<script type=\"text/javascript\" src=\"pv/assets/js/recorder.js\"></script>\n",
       "<script type=\"text/javascript\" src=\"pv/app.js\"></script>"
      ],
      "text/plain": [
       "<IPython.core.display.HTML object>"
      ]
     },
     "metadata": {},
     "output_type": "display_data"
    }
   ],
   "source": [
    "display(HTML(\"\"\"\n",
    "<script type=\"text/javascript\" src=\"pv/assets/js/cbuffer.js\"></script>\n",
    "<script type=\"text/javascript\" src=\"pv/assets/js/dsp.js\"></script>\n",
    "<script type=\"text/javascript\" src=\"pv/PV_fast_5.js\"></script>\n",
    "<script type=\"text/javascript\" src=\"pv/buffered-pv.js\"></script>\n",
    "<script type=\"text/javascript\" src=\"pv/waa-player/player.js\"></script>\n",
    "<script type=\"text/javascript\" src=\"pv/waa-player/ui.js\"></script>\n",
    "<script type=\"text/javascript\" src=\"pv/assets/js/drag-and-drop.js\"></script>\n",
    "<script type=\"text/javascript\" src=\"pv/assets/js/recorder.js\"></script>\n",
    "<script type=\"text/javascript\" src=\"pv/app.js\"></script>\"\"\"))"
   ]
  },
  {
   "cell_type": "code",
   "execution_count": 3,
   "metadata": {
    "collapsed": false
   },
   "outputs": [
    {
     "data": {
      "application/javascript": [
       "load_remote_audio('http://192.168.2.168:8888/files/wavs/Grisey_partiels.wav')"
      ],
      "text/plain": [
       "<IPython.core.display.Javascript object>"
      ]
     },
     "execution_count": 3,
     "metadata": {},
     "output_type": "execute_result"
    }
   ],
   "source": [
    "Javascript(\"\"\"load_remote_audio('http://192.168.2.168:8888/files/wavs/Grisey_partiels.wav')\"\"\")"
   ]
  },
  {
   "cell_type": "code",
   "execution_count": null,
   "metadata": {
    "collapsed": true
   },
   "outputs": [],
   "source": []
  }
 ],
 "metadata": {
  "kernelspec": {
   "display_name": "Python 3",
   "language": "python",
   "name": "python3"
  },
  "language_info": {
   "codemirror_mode": {
    "name": "ipython",
    "version": 3
   },
   "file_extension": ".py",
   "mimetype": "text/x-python",
   "name": "python",
   "nbconvert_exporter": "python",
   "pygments_lexer": "ipython3",
   "version": "3.4.3"
  }
 },
 "nbformat": 4,
 "nbformat_minor": 0
}
