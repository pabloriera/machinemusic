{
 "cells": [
  {
   "cell_type": "code",
   "execution_count": 141,
   "metadata": {
    "collapsed": false
   },
   "outputs": [
    {
     "name": "stdout",
     "output_type": "stream",
     "text": [
      "Populating the interactive namespace from numpy and matplotlib\n"
     ]
    },
    {
     "name": "stderr",
     "output_type": "stream",
     "text": [
      "/usr/local/lib/python3.4/dist-packages/IPython/core/magics/pylab.py:161: UserWarning: pylab import has clobbered these variables: ['indices', 'rec']\n",
      "`%matplotlib` prevents importing * from pylab and numpy\n",
      "  \"\\n`%matplotlib` prevents importing * from pylab and numpy\"\n"
     ]
    }
   ],
   "source": [
    "%pylab inline\n",
    "import pandas as pd\n",
    "from sklearn import decomposition\n",
    "import librosa\n",
    "from  librosa.util import frame\n",
    "import scipy\n",
    "import IPython\n",
    "from IPython.display import display, Audio\n",
    "from sklearn.cluster import KMeans,DBSCAN, estimate_bandwidth, MeanShift\n",
    "import os\n",
    "\n",
    "%run ../utils.py\n",
    "\n",
    "rc_default()\n",
    "\n",
    "def savepath(name, thing):\n",
    "    pathname = '../talk/figs/'+name\n",
    "    if not os.path.exists(pathname):\n",
    "        os.makedirs(pathname)\n",
    "    \n",
    "    return pathname+'/'+thing\n",
    "        "
   ]
  },
  {
   "cell_type": "code",
   "execution_count": 142,
   "metadata": {
    "collapsed": false
   },
   "outputs": [
    {
     "name": "stdout",
     "output_type": "stream",
     "text": [
      "0.09287981859410431 segundos\n"
     ]
    }
   ],
   "source": [
    "n_mfcc = 20\n",
    "sr = 44100\n",
    "NFFT = 2**12\n",
    "\n",
    "print(NFFT/sr,'segundos')\n",
    "\n",
    "HOP = int(NFFT/4)\n",
    "WIN_LENGTH = NFFT\n",
    "\n",
    "\n",
    "savefigures = True\n",
    "saveaudio = True\n",
    "savevideo = False\n",
    "savepickle = False"
   ]
  },
  {
   "cell_type": "code",
   "execution_count": 143,
   "metadata": {
    "collapsed": true
   },
   "outputs": [],
   "source": [
    "path = \"../wavs/\"\n",
    "\n",
    "sources = [\n",
    "    \n",
    "    {'name': 'Partiels',\n",
    "    'filename':'Grisey_partiels.wav',\n",
    "     'times':[0,120]\n",
    "    },\n",
    "#     {'name': 'Kontakte',\n",
    "#     'filename':'Stockhausen_Kontakte.wav',\n",
    "#      'times':[0,None]\n",
    "#     },\n",
    "#     {'name': 'Surfin USA',\n",
    "#     'filename':'BeachBoys_SurfinUSA.wav',\n",
    "#      'times':[0,None]\n",
    "#     },\n",
    "#     {'name': 'Metastasis',\n",
    "#     'filename':'Xenakis_Metastasis.wav',\n",
    "#      'times':[0,None]\n",
    "#     },\n",
    "#     {'name': 'Music_18_musicians',\n",
    "#     'filename':'Reich_Music18.wav',\n",
    "#      'times':[0,None]\n",
    "#     },\n",
    "#     {'name': 'Das Madchen',\n",
    "#     'filename':'Lachenmann_Das_Madchen.wav',\n",
    "#      'times':[0,None]\n",
    "#     },\n",
    "#     {'name': 'Cyclo',\n",
    "#     'filename':'Cyclo_Ikeda.wav',\n",
    "#      'times':[0,None]\n",
    "#     }\n",
    "    \n",
    "]"
   ]
  },
  {
   "cell_type": "code",
   "execution_count": 144,
   "metadata": {
    "collapsed": false
   },
   "outputs": [],
   "source": [
    "DESCRIPTORS = [\n",
    "\n",
    "{'name': 'mfcc',\n",
    " 'params': {'n_mfcc':n_mfcc,'sr':sr},\n",
    " 'function': lambda self,y: librosa.feature.mfcc(S=Sm, **self.params).T },\n",
    "\n",
    "{'name': 'rmse',\n",
    " 'params': {},\n",
    " 'function': lambda self,y: librosa.feature.rmse(S=Sm).T },\n",
    "\n",
    "{'name': 'rolloff',\n",
    " 'params': {'sr':sr},\n",
    " 'function': lambda self,y: librosa.feature.spectral_rolloff(S=Sm,sr=sr).T },\n",
    "    \n",
    "{'name': 'centroid',\n",
    " 'params': {'sr':sr},\n",
    " 'function': lambda self,y: librosa.feature.spectral_centroid(S=Sm,**self.params).T },\n",
    "    \n",
    "{'name': 'scontrast',\n",
    " 'params': {'sr':sr} ,\n",
    " 'function' : lambda self,y: librosa.feature.spectral_contrast(S=Sm, **self.params).T },\n",
    "\n",
    "{'name': 'chroma',\n",
    " 'params':{} ,\n",
    " 'function': lambda self, y: librosa.feature.chroma_stft(S=Sm, **self.params).T }]"
   ]
  },
  {
   "cell_type": "code",
   "execution_count": 145,
   "metadata": {
    "collapsed": false
   },
   "outputs": [
    {
     "name": "stderr",
     "output_type": "stream",
     "text": [
      "/usr/local/lib/python3.4/dist-packages/scipy/io/wavfile.py:267: WavFileWarning: Chunk (non-data) not understood, skipping it.\n",
      "  WavFileWarning)\n"
     ]
    }
   ],
   "source": [
    "df = pd.DataFrame()\n",
    "\n",
    "for s in sources:\n",
    "    sr_, track  = wav2audio_segment(path+s['filename'],s['times'][0],s['times'][1])\n",
    "    \n",
    "    S = librosa.stft(track,n_fft=NFFT, hop_length=HOP,center=False)\n",
    "    Sm = abs(S)\n",
    "\n",
    "    normdata = []\n",
    "    whitedata = []\n",
    "    data = []\n",
    "    multiindex = []\n",
    "\n",
    "    for D in DESCRIPTORS:\n",
    "        d = Descriptor(D)\n",
    "        d.perform(track)\n",
    "        data.append(d.data)\n",
    "        normdata.append(normalize(d.data,white=False))        \n",
    "        whitedata.append( normalize(d.data,white=True)) \n",
    "\n",
    "        multiindex += [ (d.name,i) for i in range(d.data.shape[1]) ]\n",
    "\n",
    "    columns = pd.MultiIndex.from_tuples(multiindex, names=['Descriptor', 'Feature'])\n",
    "    df = pd.DataFrame(np.hstack(data),columns = columns)\n",
    "    dfnorm = pd.DataFrame(np.hstack(normdata),columns = columns)\n",
    "    dfwhite = pd.DataFrame(np.hstack(whitedata),columns = columns)\n",
    "    \n",
    "#     if s['name']== 'Surfin USA':\n",
    "#         df = df.drop('mfcc',1)\n",
    "#         dfnorm = dfnorm.drop('mfcc',1)\n",
    "    \n",
    "    frames = frame(track, frame_length=NFFT, hop_length=HOP)\n",
    "    frames_time = linspace(0,HOP/float(sr)*frames.shape[1],frames.shape[1])\n",
    "    normframes = frames/sqrt((frames**2).mean(0))\n",
    "\n",
    "    s.update({'track':track,'df':df,'dfnorm':dfnorm,'dfwhite':dfwhite,'S':Sm,'frames_time':frames_time,'frames':frames})"
   ]
  },
  {
   "cell_type": "code",
   "execution_count": 146,
   "metadata": {
    "collapsed": false
   },
   "outputs": [],
   "source": [
    "if savefigures:\n",
    "    for s in sources:\n",
    "\n",
    "        plt.figure(figsize=(14,8))\n",
    "\n",
    "        t = s['frames_time']\n",
    "        extent = [t[0],t[-1],0,sr/2/1000.]\n",
    "\n",
    "\n",
    "        plt.imshow(log10(s['S']),aspect='auto',cmap = cm.viridis,interpolation='none', extent=extent,origin='bottom');\n",
    "        plt.xlabel('Time (seconds)')\n",
    "        plt.ylabel('Frequency (khz)')\n",
    "\n",
    "        plt.tight_layout()\n",
    "        plt.savefig(savepath(s['name'],'spectrum'))\n",
    "        plt.close()\n",
    "\n",
    "\n",
    "        df = s['dfnorm']        \n",
    "        ylab = [df.columns.levels[0][a]+str(df.columns.levels[1][b]) for (a,b) in zip(list(df.columns.labels[0]),list(df.columns.labels[1]))]\n",
    "\n",
    "        extent = [t[0],t[-1],0,df.values.shape[1]]\n",
    "\n",
    "        plt.figure(figsize=(14,8))\n",
    "        plt.imshow(df.values.T,aspect='auto',cmap = cm.viridis,interpolation='none', extent=extent);\n",
    "        plt.xlabel('Time (seconds)')\n",
    "        plt.yticks(range(df.values.shape[1],0,-1),ylab,fontsize=12)\n",
    "        plt.tight_layout()\n",
    "        plt.savefig(savepath(s['name'],'features'))\n",
    "        plt.close()\n",
    "        \n",
    "        df = s['dfwhite']        \n",
    "        ylab = [df.columns.levels[0][a]+str(df.columns.levels[1][b]) for (a,b) in zip(list(df.columns.labels[0]),list(df.columns.labels[1]))]\n",
    "\n",
    "        extent = [t[0],t[-1],0,df.values.shape[1]]\n",
    "\n",
    "        plt.figure(figsize=(14,8))\n",
    "        plt.imshow(df.values.T,aspect='auto',cmap = cm.viridis,interpolation='none', extent=extent);\n",
    "        plt.xlabel('Time (seconds)')\n",
    "        plt.yticks(range(df.values.shape[1],0,-1),ylab,fontsize=12)\n",
    "        plt.tight_layout()\n",
    "        plt.savefig(savepath(s['name'],'features_white'))\n",
    "        plt.close()"
   ]
  },
  {
   "cell_type": "code",
   "execution_count": 147,
   "metadata": {
    "collapsed": false
   },
   "outputs": [],
   "source": [
    "for s in sources:\n",
    "    X = s['dfnorm']\n",
    "    pca = decomposition.PCA(n_components=X.shape[1])\n",
    "    Xpca = pca.fit_transform(X)\n",
    "    maxpca= where(cumsum(pca.explained_variance_ratio_)>0.9)[0][0]\n",
    "    Xpca = Xpca[:,:maxpca]\n",
    "    \n",
    "    if savefigures:\n",
    "        plt.figure(figsize=(14,6))\n",
    "        sep = 15\n",
    "        plt.plot(s['frames_time'],Xpca+arange(maxpca)*sep,'k');\n",
    "        plt.xlabel('Time (seconds)')\n",
    "        plt.yticks(range(0,maxpca*sep,sep),['pca '+str(i+1) for i in range(maxpca)]);\n",
    "        plt.savefig(savepath(s['name'],'pca'))\n",
    "        plt.close()\n",
    "\n",
    "    s.update({'Xpca':Xpca})\n",
    "    "
   ]
  },
  {
   "cell_type": "code",
   "execution_count": 148,
   "metadata": {
    "collapsed": false
   },
   "outputs": [],
   "source": [
    "def plotfunc():\n",
    "    fig,ax = plt.subplots(figsize=(8,8))\n",
    "    im = imshow(rec, extent=[0,duration,0,duration],cmap=cm.viridis,vmin=np.nanmin(rec),vmax=np.nanmax(rec),origin='bottom');\n",
    "    fig.colorbar(im,fraction=0.046, pad=0.04)\n",
    "    fig.tight_layout()\n",
    "    return fig,ax\n",
    "\n",
    "for s in sources:\n",
    "    duration = s['track'].size/sr\n",
    "    \n",
    "    \n",
    "    rec = librosa.segment.recurrence_matrix(s['dfnorm'].values.T,k=1500,metric='euclidean',sym=True,mode='distance')\n",
    "    rec[rec==0]=np.nan\n",
    "        \n",
    "    if savefigures:\n",
    "        plotfunc()\n",
    "        plt.savefig(savepath(s['name'],'recurrence'))\n",
    "        plt.close()\n",
    "\n",
    "        rec = librosa.segment.recurrence_matrix(s['Xpca'].T,k=1500,metric='euclidean',sym=True,mode='distance')\n",
    "        rec[rec==0]=np.nan\n",
    "\n",
    "        plotfunc()\n",
    "        plt.savefig(savepath(s['name'],'recurrence_pca'))\n",
    "        plt.close()\n",
    "\n",
    "    if savevideo:\n",
    "         audiofigure(plotfunc,duration,path+s['filename'],fps=10,figsize=(8,8),ylim=(0,duration),videoname=savepath(s['name'],'recurrence_video')+'.mp4',HTML_OUT=False)\n"
   ]
  },
  {
   "cell_type": "code",
   "execution_count": 149,
   "metadata": {
    "collapsed": false
   },
   "outputs": [],
   "source": [
    "if saveaudio:\n",
    "    for s in sources:\n",
    "        idx = lexsort(np.flipud(s['Xpca'].T))\n",
    "        framesorder = s['frames'][:,idx]\n",
    "        outsignal = framesoverlap(framesorder,HOP, WIN_LENGTH )\n",
    "        librosa.output.write_wav(savepath(s['name'],'pca_sorted')+'.wav',outsignal,sr=sr)\n",
    "    #     display(Audio(data=outsignal,rate=sr))"
   ]
  },
  {
   "cell_type": "code",
   "execution_count": 150,
   "metadata": {
    "collapsed": false,
    "scrolled": false
   },
   "outputs": [],
   "source": [
    "from sklearn.neighbors import NearestNeighbors\n",
    "from scipy.sparse.csgraph import reverse_cuthill_mckee\n",
    "\n",
    "for s in sources:\n",
    "    X = s['Xpca']\n",
    "    nbrs = NearestNeighbors(n_neighbors=20, algorithm='brute',metric='euclidean').fit(X) #kd_tree\n",
    "    distances, indices = nbrs.kneighbors(X)    \n",
    "    B = nbrs.kneighbors_graph(X)\n",
    "    \n",
    "    # B = B - scipy.sparse.diags(ones(B.shape[0]))\n",
    "    if savefigures:\n",
    "        plt.figure(figsize=(8,8),dpi=70)\n",
    "        Y = B.toarray()\n",
    "        im = imshow(Y,interpolation='none', extent=[0,duration,0,duration],cmap=cm.Greys,vmin=np.nanmin(Y),vmax=np.nanmax(Y),origin='bottom');\n",
    "\n",
    "        plt.savefig(savepath(s['name'],'kneighbors'))\n",
    "        plt.close()\n",
    "\n",
    "        plt.figure(figsize=(8,8),dpi=70)\n",
    "        perm = reverse_cuthill_mckee( B )\n",
    "        Y = B.toarray()\n",
    "        im = imshow(Y[perm,:][:,perm],interpolation='none', extent=[0,duration,0,duration],cmap=cm.Greys,vmin=np.nanmin(Y),vmax=np.nanmax(Y),origin='bottom');\n",
    "        plt.savefig(savepath(s['name'],'cuthillmckee'))\n",
    "\n",
    "        plt.close()\n",
    "    \n",
    "    if saveaudio:\n",
    "        outsignal = framesoverlap(s['frames'][:,perm],HOP, WIN_LENGTH )\n",
    "        librosa.output.write_wav(savepath(s['name'],'cuthillmckee')+'.wav',outsignal,sr=sr)\n",
    "    #     display(Audio(data=outsignal,rate=sr))"
   ]
  },
  {
   "cell_type": "code",
   "execution_count": 151,
   "metadata": {
    "collapsed": false
   },
   "outputs": [],
   "source": [
    "\n",
    "for k,s in enumerate(sources):\n",
    "    X = s['Xpca']\n",
    "    n_clusters=X.shape[1]\n",
    "    labels = KMeans(n_clusters=n_clusters, random_state=170).fit_predict(X)\n",
    "    s.update({'labels':labels})\n",
    "#         print(s['name'])\n",
    "    if saveaudio:\n",
    "        for i in range(n_clusters):\n",
    "            outsignal = framesoverlap(s['frames'][:,labels==i],HOP, WIN_LENGTH )\n",
    "            librosa.output.write_wav(savepath(s['name'],'cluster_')+str(i)+'.wav',outsignal,sr=sr)\n",
    "\n",
    "        #         display(Audio(data=outsignal,rate=sr))\n"
   ]
  },
  {
   "cell_type": "code",
   "execution_count": 152,
   "metadata": {
    "collapsed": false
   },
   "outputs": [],
   "source": [
    "from scipy.signal import savgol_filter,resample_poly\n",
    "resampling = 3\n",
    "for i,s in enumerate(sources):\n",
    "    Xpca_resample = resample_poly(s['Xpca'],1,resampling)\n",
    "    s.update({'Xpca_resample':Xpca_resample})\n",
    "    "
   ]
  },
  {
   "cell_type": "code",
   "execution_count": 153,
   "metadata": {
    "collapsed": true
   },
   "outputs": [],
   "source": [
    "from sklearn import manifold\n",
    "import multiprocessing \n",
    "\n",
    "for i,s in enumerate(sources):\n",
    "    X = s['Xpca_resample']\n",
    "    mani2 = manifold.MDS(n_components=2,n_jobs = multiprocessing.cpu_count())\n",
    "    M2 = mani2.fit_transform(X)\n",
    "    mani3 = manifold.MDS(n_components=3,n_jobs = multiprocessing.cpu_count())\n",
    "    M3 = mani3.fit_transform(X)\n",
    "    \n",
    "    s.update({'MDS2':M2,'MDS3':M3})"
   ]
  },
  {
   "cell_type": "code",
   "execution_count": 154,
   "metadata": {
    "collapsed": false
   },
   "outputs": [],
   "source": [
    "for i,s in enumerate(sources):\n",
    "    M = s['MDS2']\n",
    "    time_color = plt.cm.jet(np.linspace(0,1,M.shape[0]))\n",
    "    plt.figure(figsize=(8,8))\n",
    "    plt.plot(M[:, 0], M[:, 1],'k',alpha=0.2)\n",
    "    plt.plot(M[0, 0], M[0, 1],'dk',alpha=0.4,ms=20)\n",
    "    plt.plot(M[-1, 0], M[-1, 1],'*k',alpha=0.4,ms=20)\n",
    "    cl = colorline(M[:, 0], M[:, 1],cmap=plt.cm.jet,alpha=0.4)\n",
    "    # plt.scatter(M[:, 0], M[:, 1],c=time_color,alpha=0.4, edgecolors='none',s=30);\n",
    "    colorbar(cl)\n",
    "    plt.savefig(savepath(s['name'],'mdstime2'))\n",
    "    plt.close()"
   ]
  },
  {
   "cell_type": "code",
   "execution_count": 155,
   "metadata": {
    "collapsed": false
   },
   "outputs": [],
   "source": [
    "fig = figure(figsize=(14,6))\n",
    "\n",
    "for i,s in enumerate(sources):\n",
    "    M = s['MDS3']\n",
    "    time_color = plt.cm.jet(np.linspace(0,1,M.shape[0]))\n",
    "\n",
    "    subplot(1,2,1)\n",
    "    cl = colorline(M[:, 0], M[:, 1],cmap=plt.cm.jet,alpha=0.4)\n",
    "    gca().autoscale(True)\n",
    "    xlabel('Dim 1')\n",
    "    ylabel('Dim 2')\n",
    "    \n",
    "    subplot(1,2,2)\n",
    "    cl = colorline(M[:, 0], M[:, 2],cmap=plt.cm.jet,alpha=0.4)\n",
    "    gca().autoscale(True)\n",
    "    xlabel('Dim 1')\n",
    "    ylabel('Dim 3')\n",
    "          \n",
    "    colorbar(cl,label='Normalized time')\n",
    "        \n",
    "    \n",
    "    plt.savefig(savepath(s['name'],'mdstime22'))\n",
    "    plt.close()"
   ]
  },
  {
   "cell_type": "code",
   "execution_count": 156,
   "metadata": {
    "collapsed": false
   },
   "outputs": [],
   "source": [
    "# %matplotlib notebook\n",
    "from mpl_toolkits.mplot3d import Axes3D\n",
    "\n",
    "fig = figure(figsize=(14,14))\n",
    "ax = fig.gca(projection='3d')\n",
    "\n",
    "for i,s in enumerate(sources):\n",
    "    M = s['MDS3']\n",
    "    x = M[:,0]\n",
    "    y = M[:,1]\n",
    "    z = M[:,2]\n",
    "        \n",
    "    N = len(x)\n",
    "    for i in range(0,N-1,1):\n",
    "        ax.plot(x[i:i+2], y[i:i+2], z[i:i+2], color=plt.cm.jet(i/float(N)))\n",
    "        \n",
    "        \n",
    "    plt.savefig(savepath(s['name'],'mdstime3'))\n",
    "    plt.close()"
   ]
  },
  {
   "cell_type": "code",
   "execution_count": 157,
   "metadata": {
    "collapsed": false
   },
   "outputs": [],
   "source": [
    "for i,s in enumerate(sources):\n",
    "\n",
    "    M = s['MDS2']\n",
    "    X = s['Xpca_resample']\n",
    "    n_clusters = X.shape[1]\n",
    "    labels = KMeans(n_clusters=n_clusters, random_state=170).fit_predict(X)\n",
    "    s.update({'kmeans_labels_resample':labels})\n",
    "    n_clusters = np.unique(labels).size\n",
    "    \n",
    "    time_color = plt.cm.hsv(labels/float(n_clusters))\n",
    "    plt.figure(figsize=(8,8))\n",
    "    plt.plot(M[:, 0], M[:, 1],'k',alpha=0.2)\n",
    "    for i in range(n_clusters):\n",
    "        ix = labels==i\n",
    "        plt.scatter(M[ix, 0], M[ix, 1],c=time_color[ix],alpha=0.4, edgecolors='none',s=30,label='Cluster '+str(i+1));\n",
    "    \n",
    "    legend();\n",
    "    plt.savefig(savepath(s['name'],'mds_kmeans_labels'))\n",
    "    plt.close()"
   ]
  },
  {
   "cell_type": "code",
   "execution_count": 158,
   "metadata": {
    "collapsed": false
   },
   "outputs": [],
   "source": [
    "from sklearn import manifold\n",
    "import multiprocessing \n",
    "\n",
    "for i,s in enumerate(sources):\n",
    "    X = s['Xpca_resample']\n",
    "    tsne = manifold.TSNE(n_components=2,random_state=1)\n",
    "    M = tsne.fit_transform(X)\n",
    "    s.update({'tsne':M})\n",
    "    \n",
    "    plt.figure(figsize=(8,8))\n",
    "    plt.plot(M[:, 0], M[:, 1],'k',alpha=0.2)\n",
    "    plt.plot(M[0, 0], M[0, 1],'dk',alpha=0.4,ms=20)\n",
    "    plt.plot(M[-1, 0], M[-1, 1],'*k',alpha=0.4,ms=20)\n",
    "    cl = colorline(M[:, 0], M[:, 1],cmap=plt.cm.jet,alpha=0.4)\n",
    "    # plt.scatter(M[:, 0], M[:, 1],c=time_color,alpha=0.4, edgecolors='none',s=30);\n",
    "    colorbar(cl)\n",
    "    plt.savefig(savepath(s['name'],'tsne'))\n",
    "    plt.close()"
   ]
  },
  {
   "cell_type": "code",
   "execution_count": 159,
   "metadata": {
    "collapsed": false
   },
   "outputs": [],
   "source": [
    "for i,s in enumerate(sources):\n",
    "    X = s['Xpca_resample']\n",
    "    labels = s['kmeans_labels_resample']\n",
    "    \n",
    "    M = s['tsne']\n",
    "\n",
    "    n_clusters = np.unique(labels).size\n",
    "    \n",
    "    time_color = plt.cm.hsv(labels/float(n_clusters))\n",
    "    plt.figure(figsize=(8,8))\n",
    "    plt.plot(M[:, 0], M[:, 1],'k',alpha=0.2)\n",
    "    for i in range(n_clusters):\n",
    "        ix = labels==i\n",
    "        plt.scatter(M[ix, 0], M[ix, 1],c=time_color[ix],alpha=0.4, edgecolors='none',s=30,label='Cluster '+str(i+1));\n",
    "    \n",
    "    legend();\n",
    "    plt.savefig(savepath(s['name'],'tsne_kmeans_labels'))\n",
    "    plt.close()"
   ]
  },
  {
   "cell_type": "code",
   "execution_count": 173,
   "metadata": {
    "collapsed": false
   },
   "outputs": [
    {
     "data": {
      "image/png": "[encoded data removed]",
      "text/plain": [
       "<matplotlib.figure.Figure at 0x7f19d2dc2fd0>"
      ]
     },
     "metadata": {},
     "output_type": "display_data"
    }
   ],
   "source": [
    "for i,s in enumerate(sources):\n",
    "\n",
    "    M = s['MDS2']\n",
    "    X = s['Xpca_resample']\n",
    "    db = DBSCAN(eps=mean(abs(X))*1.5,min_samples=20,n_jobs = multiprocessing.cpu_count()).fit(X)\n",
    "    labels = db.labels_\n",
    "    \n",
    "    s.update({'dbscan_labels_resample':labels})\n",
    "    n_clusters = np.unique(labels).size\n",
    "       \n",
    "    time_color = plt.cm.hsv(labels/float(n_clusters))\n",
    "    plt.figure(figsize=(8,8))\n",
    "    plt.plot(M[:, 0], M[:, 1],'k',alpha=0.2)\n",
    "    for i in range(n_clusters):\n",
    "        ix = labels==i\n",
    "        plt.scatter(M[ix, 0], M[ix, 1],c=time_color[ix],alpha=0.4, edgecolors='none',s=30,label='Cluster '+str(i+1));\n",
    "    \n",
    "    legend();\n",
    "    plt.savefig(savepath(s['name'],'mds_dbscan_labels'))"
   ]
  },
  {
   "cell_type": "code",
   "execution_count": 161,
   "metadata": {
    "collapsed": false
   },
   "outputs": [
    {
     "data": {
      "text/plain": [
       "1.3931058572462665"
      ]
     },
     "execution_count": 161,
     "metadata": {},
     "output_type": "execute_result"
    }
   ],
   "source": [
    "mean(abs(X))"
   ]
  },
  {
   "cell_type": "code",
   "execution_count": 162,
   "metadata": {
    "collapsed": false
   },
   "outputs": [
    {
     "ename": "IndentationError",
     "evalue": "unexpected indent (<ipython-input-162-e14460e4f16a>, line 4)",
     "output_type": "error",
     "traceback": [
      "\u001b[0;36m  File \u001b[0;32m\"<ipython-input-162-e14460e4f16a>\"\u001b[0;36m, line \u001b[0;32m4\u001b[0m\n\u001b[0;31m    with open('fullprocess.pickle', 'wb') as handle:\u001b[0m\n\u001b[0m    ^\u001b[0m\n\u001b[0;31mIndentationError\u001b[0m\u001b[0;31m:\u001b[0m unexpected indent\n"
     ]
    }
   ],
   "source": [
    "import pickle\n",
    "\n",
    "if savepickle:1\n",
    "    with open('fullprocess.pickle', 'wb') as handle:\n",
    "      pickle.dump(sources, handle)"
   ]
  },
  {
   "cell_type": "code",
   "execution_count": null,
   "metadata": {
    "collapsed": true
   },
   "outputs": [],
   "source": []
  }
 ],
 "metadata": {
  "kernelspec": {
   "display_name": "Python 3",
   "language": "python",
   "name": "python3"
  },
  "language_info": {
   "codemirror_mode": {
    "name": "ipython",
    "version": 3
   },
   "file_extension": ".py",
   "mimetype": "text/x-python",
   "name": "python",
   "nbconvert_exporter": "python",
   "pygments_lexer": "ipython3",
   "version": "3.4.3"
  }
 },
 "nbformat": 4,
 "nbformat_minor": 0
}
