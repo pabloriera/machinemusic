{
 "cells": [
  {
   "cell_type": "markdown",
   "metadata": {},
   "source": [
    "# Simple two layer autoencoder on STFT data\n",
    "\n",
    "Taken from https://github.com/aymericdamien/TensorFlow-Examples/blob/master/examples/3_NeuralNetworks/autoencoder.py\n",
    "\n"
   ]
  },
  {
   "cell_type": "code",
   "execution_count": 1,
   "metadata": {
    "collapsed": false
   },
   "outputs": [
    {
     "name": "stdout",
     "output_type": "stream",
     "text": [
      "Populating the interactive namespace from numpy and matplotlib\n"
     ]
    }
   ],
   "source": [
    "from __future__ import division, print_function, absolute_import\n",
    "%pylab inline\n",
    "import wget\n",
    "from scipy.io import wavfile\n",
    "import librosa\n",
    "import tensorflow as tf\n",
    "import numpy as np\n",
    "import os"
   ]
  },
  {
   "cell_type": "code",
   "execution_count": 2,
   "metadata": {
    "collapsed": false
   },
   "outputs": [],
   "source": [
    "fname = 'Stockhausen_Kontakte.wav'\n",
    "\n",
    "if not os.path.exists(fname):\n",
    "    url = 'https://www.dropbox.com/s/f717af2vhiagcbp/'+fname+'?dl=1'\n",
    "    filename = wget.download(url)"
   ]
  },
  {
   "cell_type": "code",
   "execution_count": 3,
   "metadata": {
    "collapsed": false
   },
   "outputs": [
    {
     "name": "stdout",
     "output_type": "stream",
     "text": [
      "Dimensions: frames, freq bins, time bins\n",
      "187\n",
      "168 513 65\n"
     ]
    }
   ],
   "source": [
    "# Read wav file to floating values\n",
    "fs,x = wavfile.read(fname)\n",
    "t1 = 10*fs\n",
    "t2 = 80*fs\n",
    "x = x[t1:t2]\n",
    "x = np.float64(x)/2**15\n",
    "# Peak Normalization\n",
    "\n",
    "x/=abs(x).max()\n",
    "\n",
    "# Extract overlapping frames and create a spectrogram in each one\n",
    "\n",
    "L = x.size\n",
    "\n",
    "frame_size = 2**15\n",
    "step_size = int(frame_size/2)\n",
    "\n",
    "# Number of frames\n",
    "n_frames = int( (L-frame_size)/step_size+1 )\n",
    "\n",
    "block_size = 2**10\n",
    "hop = int(block_size/2)\n",
    "NFFT = block_size\n",
    "\n",
    "level_threshold = 1e-5\n",
    "\n",
    "n_blocks = int( (frame_size-block_size)/hop)+1+ int(block_size/hop)\n",
    "\n",
    "# S = np.zeros((n_frames,block_size/2+1,n_blocks), dtype = np.complex128)\n",
    "S = []\n",
    "\n",
    "for i in range(n_frames):\n",
    "    frame = x[i*step_size:i*step_size+frame_size]\n",
    "    S_ = librosa.stft(frame,n_fft=NFFT,hop_length=hop,win_length=block_size )/2/NFFT\n",
    "    if abs(S_).mean()>level_threshold:\n",
    "        S_ = 20*log10(abs(S_)).clip(-60,0)\n",
    "        S_ = (S_ - S_.min()) /(S_.max() - S_.min())\n",
    "        S.append( S_ )\n",
    "\n",
    "print(\"Dimensions: frames, freq bins, time bins\")\n",
    "S = np.array(S)\n",
    "print(n_frames)\n",
    "batch_length, freq_bins,time_bins = S.shape\n",
    "print(batch_length, freq_bins,time_bins)\n"
   ]
  },
  {
   "cell_type": "code",
   "execution_count": 4,
   "metadata": {
    "collapsed": false
   },
   "outputs": [],
   "source": [
    "class Data():\n",
    "    \n",
    "    def __init__(self,data):\n",
    "        import random\n",
    "        \n",
    "        self.data = data\n",
    "        self.batch_ix = 0\n",
    "        self.length = self.data.shape[0]\n",
    "        self.ixs = list(range(self.length))\n",
    "        random.shuffle(self.ixs)\n",
    "        \n",
    "    def next_batch(self,batch_size):\n",
    "        self.batch_ix+= batch_size\n",
    "        self.batch_ix = (self.batch_ix+batch_size) % self.length\n",
    "        return self.data[self.ixs[self.batch_ix:self.batch_ix+batch_size]]\n",
    "    \n",
    "data = Data( S.reshape((S.shape[0],S.shape[1]*S.shape[2])) )\n",
    "n_stfts = data.length\n"
   ]
  },
  {
   "cell_type": "code",
   "execution_count": 5,
   "metadata": {
    "collapsed": false
   },
   "outputs": [],
   "source": [
    "# Parameters\n",
    "learning_rate = 0.05\n",
    "training_epochs = 200\n",
    "batch_size = 128\n",
    "\n",
    "display_step = 5\n",
    "\n",
    "# Network Parameters\n",
    "dimensions= [512,128,64,32]\n",
    "\n",
    "n_input = data.data.shape[1]"
   ]
  },
  {
   "cell_type": "code",
   "execution_count": null,
   "metadata": {
    "collapsed": false
   },
   "outputs": [],
   "source": [
    "# tf Graph input (only pictures)\n",
    "X = tf.placeholder(\"float\", [None, n_input])\n",
    "\n",
    "weights = {}\n",
    "biases = {}\n",
    "layer_input = n_input\n",
    "\n",
    "for layer_i, layer_output in enumerate(dimensions[:]):\n",
    "    weights['encoder_h'+str(layer_i)] = tf.Variable(tf.random_normal([layer_input, layer_output]))\n",
    "    biases['encoder_b'+str(layer_i)] = tf.Variable(tf.random_normal([layer_output]))\n",
    "    layer_input = layer_output\n",
    "\n",
    "for layer_i, layer_output in enumerate(dimensions[:-1][::-1]+[n_input]):\n",
    "    weights['decoder_h'+str(layer_i)] = tf.Variable(tf.random_normal([layer_input, layer_output]))\n",
    "    biases['decoder_b'+str(layer_i)] = tf.Variable(tf.random_normal([layer_output]))\n",
    "    layer_input = layer_output\n",
    "    \n",
    "shape = tf.nn.sigmoid\n",
    "\n",
    "# Building the encoder\n",
    "layers = {}\n",
    "def encoder(x):\n",
    "    # Encoder Hidden layer with sigmoid activation #1\n",
    "    layer_input = x\n",
    "    \n",
    "    for layer_i, layer_output in enumerate(dimensions[:]):\n",
    "        layers[layer_i] = shape(tf.add(tf.matmul(layer_input, weights['encoder_h'+str(layer_i)]), \n",
    "                                               biases['encoder_b'+str(layer_i)]))\n",
    "        layer_input = layers[layer_i]\n",
    "\n",
    "    return layer_input\n",
    "\n",
    "\n",
    "# Building the decoder\n",
    "def decoder(x):\n",
    "\n",
    "    layer_input = x\n",
    "    for layer_i, layer_output in enumerate(dimensions[:]):\n",
    "        layers[layer_i] = shape(tf.add(tf.matmul(layer_input, weights['decoder_h'+str(layer_i)]), \n",
    "                                               biases['decoder_b'+str(layer_i)]))\n",
    "        layer_input = layers[layer_i]\n",
    "\n",
    "    return layer_input\n",
    "\n",
    "# Construct model\n",
    "encoder_op = encoder(X)\n",
    "decoder_op = decoder(encoder_op)\n",
    "\n",
    "# Prediction\n",
    "y_pred = decoder_op\n",
    "# Targets (Labels) are the input data.\n",
    "y_true = X\n",
    "\n",
    "# Define loss and optimizer, minimize the squared error\n",
    "cost = tf.reduce_mean(tf.pow(y_true - y_pred, 2))\n",
    "optimizer = tf.train.AdamOptimizer(learning_rate).minimize(cost)\n",
    "\n",
    "# Initializing the variables\n",
    "init = tf.initialize_all_variables()"
   ]
  },
  {
   "cell_type": "code",
   "execution_count": null,
   "metadata": {
    "collapsed": false
   },
   "outputs": [
    {
     "name": "stdout",
     "output_type": "stream",
     "text": [
      "Epoch: 0001 cost= 0.244794711\n",
      "Epoch: 0006 cost= 0.218649656\n",
      "Epoch: 0011 cost= 0.210039690\n",
      "Epoch: 0016 cost= 0.203050673\n",
      "Epoch: 0021 cost= 0.199733287\n",
      "Epoch: 0026 cost= 0.194319278\n",
      "Epoch: 0031 cost= 0.192361236\n",
      "Epoch: 0036 cost= 0.188801423\n"
     ]
    }
   ],
   "source": [
    "# Launch the graph\n",
    "config = tf.ConfigProto( device_count = {'GPU': 0} )\n",
    "sess = tf.Session(config=config)\n",
    "sess.run(init)\n",
    "total_batch = int(data.length/batch_size)\n",
    "# Training cycle\n",
    "for epoch in range(training_epochs):\n",
    "    # Loop over all batches\n",
    "    for i in range(total_batch):\n",
    "        batch_xs = data.next_batch(batch_size)\n",
    "        # Run optimization op (backprop) and cost op (to get loss value)\n",
    "        opt,cost_value = sess.run([optimizer, cost], feed_dict={X: batch_xs})\n",
    "\n",
    "    # Display logs per epoch step\n",
    "    if epoch % display_step == 0:\n",
    "        print(\"Epoch:\", '%04d' % (epoch+1),\"cost=\", \"{:.9f}\".format(cost_value))\n",
    "\n",
    "print(\"Optimization Finished!\")"
   ]
  },
  {
   "cell_type": "code",
   "execution_count": null,
   "metadata": {
    "collapsed": false
   },
   "outputs": [],
   "source": [
    "compare = [3,21,46]\n",
    "\n",
    "out = sess.run(y_pred, feed_dict={X: data.data[compare]})\n",
    "original = data.data[compare]\n",
    "figure(figsize=(14,10))\n",
    "for i,c in enumerate(compare):\n",
    "    \n",
    "    subplot(len(compare),2,i*2+1)\n",
    "    imshow(out[i].reshape((freq_bins,time_bins)),aspect='auto',origin='bottom')\n",
    "    subplot(len(compare),2,i*2+2)\n",
    "    imshow(original[i].reshape((freq_bins,time_bins)),aspect='auto',origin='bottom')\n",
    "\n",
    "subplot(len(compare),2,1)\n",
    "title(\"Autoencoder\")\n",
    "subplot(len(compare),2,2)\n",
    "title(\"Original\")\n",
    "\n",
    "# savefig(\"results_dim_\"+str(dimensions)+\"_cost_\"+\"{:.4f}.png\".format(cost_value))"
   ]
  },
  {
   "cell_type": "code",
   "execution_count": null,
   "metadata": {
    "collapsed": false
   },
   "outputs": [],
   "source": [
    "out = sess.run(encoder_op, feed_dict={X: data.data[3:4]})\n",
    "matshow(out.reshape((8,dimensions[-1]/8)))\n",
    "colorbar()"
   ]
  },
  {
   "cell_type": "code",
   "execution_count": null,
   "metadata": {
    "collapsed": false
   },
   "outputs": [],
   "source": [
    "Y = np.zeros((1,dimensions[-1]),dtype=np.float32)\n",
    "figure(figsize=(14,10))\n",
    "for i in range(dimensions[-1]):\n",
    "    Y[0,i] = 1\n",
    "    out = sess.run(decoder(Y), feed_dict={X: data.data[3:4]})\n",
    "    subplot(dimensions[-1]/8,8,i+1)\n",
    "    imshow(out.reshape((freq_bins,time_bins)),aspect='auto')\n",
    "    colorbar()"
   ]
  },
  {
   "cell_type": "code",
   "execution_count": null,
   "metadata": {
    "collapsed": false
   },
   "outputs": [],
   "source": [
    "I = imread(\"results_dim_[256, 64]_cost_0.0082.png\")\n",
    "figure(figsize=(14,10))\n",
    "imshow(I)\n",
    "plt.axis('off');"
   ]
  }
 ],
 "metadata": {
  "kernelspec": {
   "display_name": "Python 3",
   "language": "python",
   "name": "python3"
  },
  "language_info": {
   "codemirror_mode": {
    "name": "ipython",
    "version": 3
   },
   "file_extension": ".py",
   "mimetype": "text/x-python",
   "name": "python",
   "nbconvert_exporter": "python",
   "pygments_lexer": "ipython3",
   "version": "3.4.3"
  }
 },
 "nbformat": 4,
 "nbformat_minor": 0
}
